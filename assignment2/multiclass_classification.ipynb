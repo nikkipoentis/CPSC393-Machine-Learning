{
 "cells": [
  {
   "cell_type": "markdown",
   "metadata": {},
   "source": [
    "## Assignment 2: Multi-class Classification Example"
   ]
  },
  {
   "cell_type": "code",
   "execution_count": 1,
   "metadata": {},
   "outputs": [
    {
     "name": "stderr",
     "output_type": "stream",
     "text": [
      "2022-10-19 17:58:40.502057: I tensorflow/core/platform/cpu_feature_guard.cc:193] This TensorFlow binary is optimized with oneAPI Deep Neural Network Library (oneDNN) to use the following CPU instructions in performance-critical operations:  SSE4.1 SSE4.2\n",
      "To enable them in other operations, rebuild TensorFlow with the appropriate compiler flags.\n"
     ]
    }
   ],
   "source": [
    "import pandas as pd\n",
    "import numpy as np\n",
    "import matplotlib.pyplot as plt\n",
    "\n",
    "import keras\n",
    "from keras import models\n",
    "from keras import layers\n",
    "from keras.utils import to_categorical\n",
    "\n",
    "from sklearn.preprocessing import LabelEncoder"
   ]
  },
  {
   "cell_type": "markdown",
   "metadata": {},
   "source": [
    "### 3.4 Example using customer segmentation data "
   ]
  },
  {
   "cell_type": "code",
   "execution_count": 2,
   "metadata": {},
   "outputs": [
    {
     "name": "stdout",
     "output_type": "stream",
     "text": [
      "   Gender  Ever_Married  Age  Graduated  Spending_Score  Family_Size  Var_1\n",
      "0       1             0   22          0               2          4.0      3\n",
      "2       0             1   67          1               2          1.0      5\n",
      "3       1             1   67          1               1          2.0      5\n",
      "5       1             1   56          0               0          2.0      5\n",
      "6       1             0   32          1               2          3.0      5\n",
      "<class 'pandas.core.frame.DataFrame'>\n",
      "Int64Index: 6665 entries, 0 to 8067\n",
      "Data columns (total 7 columns):\n",
      " #   Column          Non-Null Count  Dtype  \n",
      "---  ------          --------------  -----  \n",
      " 0   Gender          6665 non-null   int64  \n",
      " 1   Ever_Married    6665 non-null   int64  \n",
      " 2   Age             6665 non-null   int64  \n",
      " 3   Graduated       6665 non-null   int64  \n",
      " 4   Spending_Score  6665 non-null   int64  \n",
      " 5   Family_Size     6665 non-null   float64\n",
      " 6   Var_1           6665 non-null   int64  \n",
      "dtypes: float64(1), int64(6)\n",
      "memory usage: 416.6 KB\n",
      "None\n"
     ]
    }
   ],
   "source": [
    "# import data (pre-split into training and testing sets)\n",
    "training = pd.read_csv(\"customers_train.csv\").dropna()\n",
    "testing = pd.read_csv(\"customers_test.csv\").dropna()\n",
    "\n",
    "# data is based on customer segmentation for automobile company\n",
    "# keeps only some of the variables that were being used for the neural network \n",
    "# got rid of...\n",
    "    # Profession (categorical variables are difficult to implement in classification NNs)\n",
    "    # Work_Experience (majority of values are 0)\n",
    "    # and Segmentation (only in training file)\n",
    "# output variable (Var_1) is the anonymised category for the customer\n",
    "\n",
    "variables = [\"Gender\", \"Ever_Married\", \"Age\", \"Graduated\", \"Spending_Score\", \"Family_Size\", \"Var_1\"]\n",
    "training = training[variables]\n",
    "testing = testing[variables]\n",
    "\n",
    "# transforms any string variables into relavent integer representations\n",
    "le = LabelEncoder()\n",
    "# Female = 0 & Male = 1\n",
    "training['Gender'] = le.fit_transform(training['Gender'])\n",
    "testing['Gender'] = le.fit_transform(testing['Gender'])\n",
    "# No = 0 & Yes = 1 (binary)\n",
    "training['Ever_Married'] = le.fit_transform(training['Ever_Married'])\n",
    "testing['Ever_Married'] = le.fit_transform(testing['Ever_Married'])\n",
    "# No = 0 & Yes = 1 (binary)\n",
    "training['Graduated'] = le.fit_transform(training['Graduated'])\n",
    "testing['Graduated'] = le.fit_transform(testing['Graduated'])\n",
    "# Average = 0, High = 1, & Low = 2\n",
    "training['Spending_Score'] = le.fit_transform(training['Spending_Score'])\n",
    "testing['Spending_Score'] = le.fit_transform(testing['Spending_Score'])\n",
    "# Cat_1 = 0, Cat_2 = 1, Cat_3 = 2, Cat_4 = 3, Cat_5 = 4, Cat_6 = 5, & Cat_7 = 6\n",
    "training['Var_1'] = le.fit_transform(training['Var_1'])\n",
    "testing['Var_1'] = le.fit_transform(testing['Var_1'])\n",
    "\n",
    "print(training.head()) \n",
    "print(training.info())\n",
    "\n",
    "# extracting only values gets rid of the dataframe column headings\n",
    "training_set = training.values\n",
    "testing_set = testing.values\n",
    "\n",
    "# last column is output (Var_1)\n",
    "train_data = training_set[:,0:6]\n",
    "test_data = testing_set[:,0:6]\n",
    "\n",
    "mean = train_data.mean(axis=0)\n",
    "train_data -= mean\n",
    "std = train_data.std(axis=0)\n",
    "train_data /= std\n",
    "test_data -= mean\n",
    "test_data /= std\n",
    "\n",
    "train_label = to_categorical(training_set[:,6], 7)\n",
    "test_label = to_categorical(testing_set[:,6], 7)\n",
    "\n",
    "# splitting the training data into two for validation while training\n",
    "x_val = train_data[:1000]\n",
    "x_train = train_data[1000:]\n",
    "y_val = train_label[:1000]\n",
    "y_train = train_label[1000:]"
   ]
  },
  {
   "cell_type": "code",
   "execution_count": 17,
   "metadata": {},
   "outputs": [
    {
     "name": "stdout",
     "output_type": "stream",
     "text": [
      "(6665, 6)\n",
      "(2154, 6)\n"
     ]
    }
   ],
   "source": [
    "print(train_data.shape)\n",
    "print(test_data.shape)"
   ]
  },
  {
   "cell_type": "code",
   "execution_count": 13,
   "metadata": {},
   "outputs": [
    {
     "name": "stdout",
     "output_type": "stream",
     "text": [
      "Epoch 1/20\n",
      "12/12 [==============================] - 0s 11ms/step - loss: 1.5453 - acc: 0.5636 - val_loss: 1.2526 - val_acc: 0.6760\n",
      "Epoch 2/20\n",
      "12/12 [==============================] - 0s 4ms/step - loss: 1.1856 - acc: 0.6708 - val_loss: 1.1252 - val_acc: 0.6760\n",
      "Epoch 3/20\n",
      "12/12 [==============================] - 0s 5ms/step - loss: 1.1119 - acc: 0.6701 - val_loss: 1.0899 - val_acc: 0.6740\n",
      "Epoch 4/20\n",
      "12/12 [==============================] - 0s 5ms/step - loss: 1.0891 - acc: 0.6724 - val_loss: 1.0727 - val_acc: 0.6770\n",
      "Epoch 5/20\n",
      "12/12 [==============================] - 0s 6ms/step - loss: 1.0768 - acc: 0.6736 - val_loss: 1.0663 - val_acc: 0.6760\n",
      "Epoch 6/20\n",
      "12/12 [==============================] - 0s 4ms/step - loss: 1.0711 - acc: 0.6756 - val_loss: 1.0604 - val_acc: 0.6780\n",
      "Epoch 7/20\n",
      "12/12 [==============================] - 0s 4ms/step - loss: 1.0670 - acc: 0.6764 - val_loss: 1.0559 - val_acc: 0.6800\n",
      "Epoch 8/20\n",
      "12/12 [==============================] - 0s 4ms/step - loss: 1.0646 - acc: 0.6775 - val_loss: 1.0542 - val_acc: 0.6820\n",
      "Epoch 9/20\n",
      "12/12 [==============================] - 0s 4ms/step - loss: 1.0617 - acc: 0.6778 - val_loss: 1.0554 - val_acc: 0.6800\n",
      "Epoch 10/20\n",
      "12/12 [==============================] - 0s 4ms/step - loss: 1.0601 - acc: 0.6771 - val_loss: 1.0551 - val_acc: 0.6810\n",
      "Epoch 11/20\n",
      "12/12 [==============================] - 0s 3ms/step - loss: 1.0592 - acc: 0.6777 - val_loss: 1.0542 - val_acc: 0.6820\n",
      "Epoch 12/20\n",
      "12/12 [==============================] - 0s 4ms/step - loss: 1.0569 - acc: 0.6789 - val_loss: 1.0534 - val_acc: 0.6820\n",
      "Epoch 13/20\n",
      "12/12 [==============================] - 0s 4ms/step - loss: 1.0571 - acc: 0.6773 - val_loss: 1.0533 - val_acc: 0.6840\n",
      "Epoch 14/20\n",
      "12/12 [==============================] - 0s 3ms/step - loss: 1.0558 - acc: 0.6771 - val_loss: 1.0519 - val_acc: 0.6800\n",
      "Epoch 15/20\n",
      "12/12 [==============================] - 0s 4ms/step - loss: 1.0547 - acc: 0.6782 - val_loss: 1.0506 - val_acc: 0.6830\n",
      "Epoch 16/20\n",
      "12/12 [==============================] - 0s 3ms/step - loss: 1.0540 - acc: 0.6777 - val_loss: 1.0532 - val_acc: 0.6840\n",
      "Epoch 17/20\n",
      "12/12 [==============================] - 0s 4ms/step - loss: 1.0533 - acc: 0.6775 - val_loss: 1.0515 - val_acc: 0.6830\n",
      "Epoch 18/20\n",
      "12/12 [==============================] - 0s 5ms/step - loss: 1.0529 - acc: 0.6780 - val_loss: 1.0549 - val_acc: 0.6850\n",
      "Epoch 19/20\n",
      "12/12 [==============================] - 0s 4ms/step - loss: 1.0520 - acc: 0.6771 - val_loss: 1.0509 - val_acc: 0.6830\n",
      "Epoch 20/20\n",
      "12/12 [==============================] - 0s 3ms/step - loss: 1.0505 - acc: 0.6777 - val_loss: 1.0505 - val_acc: 0.6870\n"
     ]
    }
   ],
   "source": [
    "# the base model (the model compared against in further experiments)\n",
    "model = models.Sequential()\n",
    "model.add(layers.Dense(64, activation='relu', input_shape=(6,)))\n",
    "model.add(layers.Dense(64, activation='relu'))\n",
    "# the Val_1 variable has 7 categories so the layer size should be 7 (instead of 46 like the example)\n",
    "model.add(layers.Dense(7, activation='softmax'))\n",
    "\n",
    "model.compile(optimizer='rmsprop', loss='categorical_crossentropy', metrics=['acc'])\n",
    "\n",
    "# fits the model with 20 epochs and only some of the training data to validate model\n",
    "history = model.fit(x_train, y_train, epochs=20, batch_size=512, validation_data=(x_val, y_val))\n",
    "history_dict = history.history\n",
    "\n",
    "# generates metrics to be graphed \n",
    "loss_values = history_dict['loss']\n",
    "val_loss_values = history_dict['val_loss']\n",
    "epochs = range(1, len(loss_values) + 1)\n",
    "acc_values = history_dict['acc']\n",
    "val_acc_values = history_dict['val_acc'] "
   ]
  },
  {
   "cell_type": "code",
   "execution_count": 14,
   "metadata": {},
   "outputs": [
    {
     "data": {
      "image/png": "[encoded data removed]",
      "text/plain": [
       "<Figure size 640x480 with 1 Axes>"
      ]
     },
     "metadata": {},
     "output_type": "display_data"
    },
    {
     "data": {
      "image/png": "[encoded data removed]",
      "text/plain": [
       "<Figure size 640x480 with 1 Axes>"
      ]
     },
     "metadata": {},
     "output_type": "display_data"
    }
   ],
   "source": [
    "plt.plot(epochs, loss_values, 'bo', label='Training loss')\n",
    "plt.plot(epochs, val_loss_values, 'b', label='Validation loss')\n",
    "plt.title('Multiclass Classification\\nTraining and Validation Loss')\n",
    "plt.xlabel('Epochs')\n",
    "plt.ylabel('Loss')\n",
    "plt.legend(loc = 'upper right')\n",
    "plt.show()\n",
    "\n",
    "plt.clf() # Clears the figure\n",
    "plt.plot(epochs, acc_values, 'bo', label='Training acc')\n",
    "plt.plot(epochs, val_acc_values, 'b', label='Validation acc')\n",
    "plt.title('Training and validation accuracy')\n",
    "plt.xlabel('Epochs')\n",
    "plt.ylabel('Accuracy')\n",
    "plt.legend()\n",
    "plt.show()"
   ]
  },
  {
   "cell_type": "code",
   "execution_count": 15,
   "metadata": {},
   "outputs": [
    {
     "name": "stdout",
     "output_type": "stream",
     "text": [
      "Epoch 1/9\n",
      "12/12 [==============================] - 0s 5ms/step - loss: 1.0507 - acc: 0.6768 - val_loss: 1.0510 - val_acc: 0.6830\n",
      "Epoch 2/9\n",
      "12/12 [==============================] - 0s 3ms/step - loss: 1.0505 - acc: 0.6777 - val_loss: 1.0539 - val_acc: 0.6840\n",
      "Epoch 3/9\n",
      "12/12 [==============================] - 0s 3ms/step - loss: 1.0509 - acc: 0.6775 - val_loss: 1.0531 - val_acc: 0.6800\n",
      "Epoch 4/9\n",
      "12/12 [==============================] - 0s 4ms/step - loss: 1.0485 - acc: 0.6789 - val_loss: 1.0535 - val_acc: 0.6840\n",
      "Epoch 5/9\n",
      "12/12 [==============================] - 0s 3ms/step - loss: 1.0489 - acc: 0.6778 - val_loss: 1.0515 - val_acc: 0.6840\n",
      "Epoch 6/9\n",
      "12/12 [==============================] - 0s 3ms/step - loss: 1.0484 - acc: 0.6775 - val_loss: 1.0551 - val_acc: 0.6840\n",
      "Epoch 7/9\n",
      "12/12 [==============================] - 0s 3ms/step - loss: 1.0488 - acc: 0.6777 - val_loss: 1.0508 - val_acc: 0.6810\n",
      "Epoch 8/9\n",
      "12/12 [==============================] - 0s 3ms/step - loss: 1.0476 - acc: 0.6793 - val_loss: 1.0570 - val_acc: 0.6840\n",
      "Epoch 9/9\n",
      "12/12 [==============================] - 0s 3ms/step - loss: 1.0486 - acc: 0.6777 - val_loss: 1.0488 - val_acc: 0.6790\n",
      "\n",
      "68/68 [==============================] - 0s 873us/step - loss: 1.0569 - acc: 0.6690\n"
     ]
    },
    {
     "data": {
      "text/plain": [
       "[1.0569138526916504, 0.6689879298210144]"
      ]
     },
     "execution_count": 15,
     "metadata": {},
     "output_type": "execute_result"
    }
   ],
   "source": [
    "# uses 9 epochs based on the textbook example (not necessarily the optimal amount of epochs)\n",
    "base = model.fit(x_train, y_train, epochs=9, batch_size=512, validation_data=(x_val, y_val))\n",
    "\n",
    "print() # blank line for formatting\n",
    "results = model.evaluate(test_data, test_label) \n",
    "\n",
    "# prints out the results as an array [test loss, test accuracy]\n",
    "results"
   ]
  },
  {
   "cell_type": "code",
   "execution_count": 16,
   "metadata": {},
   "outputs": [
    {
     "data": {
      "text/plain": [
       "0.6778660350375705"
      ]
     },
     "execution_count": 16,
     "metadata": {},
     "output_type": "execute_result"
    }
   ],
   "source": [
    "np.mean(base.history['acc']) # training accuracy "
   ]
  },
  {
   "cell_type": "code",
   "execution_count": 6,
   "metadata": {},
   "outputs": [
    {
     "name": "stdout",
     "output_type": "stream",
     "text": [
      "68/68 [==============================] - 0s 515us/step\n",
      "(7,)\n",
      "0.99999994\n",
      "5\n"
     ]
    }
   ],
   "source": [
    "predictions = model.predict(test_data)\n",
    "\n",
    "print(predictions[0].shape)\n",
    "\n",
    "print(np.sum(predictions[0]))\n",
    "\n",
    "print(np.argmax(predictions[0]))"
   ]
  },
  {
   "cell_type": "markdown",
   "metadata": {},
   "source": [
    "### Further experiments"
   ]
  },
  {
   "cell_type": "markdown",
   "metadata": {},
   "source": [
    "#### Experiment #6\n",
    "\n",
    "Try using larger or smaller layers: 32 units, 128 units, and so on."
   ]
  },
  {
   "cell_type": "code",
   "execution_count": 7,
   "metadata": {},
   "outputs": [
    {
     "name": "stdout",
     "output_type": "stream",
     "text": [
      "Epoch 1/20\n",
      "12/12 [==============================] - 0s 10ms/step - loss: 1.6639 - acc: 0.4990 - val_loss: 1.4390 - val_acc: 0.6490\n",
      "Epoch 2/20\n",
      "12/12 [==============================] - 0s 3ms/step - loss: 1.3559 - acc: 0.6644 - val_loss: 1.2404 - val_acc: 0.6760\n",
      "Epoch 3/20\n",
      "12/12 [==============================] - 0s 3ms/step - loss: 1.2151 - acc: 0.6708 - val_loss: 1.1509 - val_acc: 0.6760\n",
      "Epoch 4/20\n",
      "12/12 [==============================] - 0s 3ms/step - loss: 1.1530 - acc: 0.6708 - val_loss: 1.1079 - val_acc: 0.6760\n",
      "Epoch 5/20\n",
      "12/12 [==============================] - 0s 3ms/step - loss: 1.1235 - acc: 0.6708 - val_loss: 1.0896 - val_acc: 0.6760\n",
      "Epoch 6/20\n",
      "12/12 [==============================] - 0s 3ms/step - loss: 1.1060 - acc: 0.6720 - val_loss: 1.0787 - val_acc: 0.6800\n",
      "Epoch 7/20\n",
      "12/12 [==============================] - 0s 3ms/step - loss: 1.0955 - acc: 0.6717 - val_loss: 1.0702 - val_acc: 0.6780\n",
      "Epoch 8/20\n",
      "12/12 [==============================] - 0s 3ms/step - loss: 1.0880 - acc: 0.6720 - val_loss: 1.0650 - val_acc: 0.6780\n",
      "Epoch 9/20\n",
      "12/12 [==============================] - 0s 3ms/step - loss: 1.0819 - acc: 0.6736 - val_loss: 1.0615 - val_acc: 0.6840\n",
      "Epoch 10/20\n",
      "12/12 [==============================] - 0s 3ms/step - loss: 1.0772 - acc: 0.6747 - val_loss: 1.0597 - val_acc: 0.6820\n",
      "Epoch 11/20\n",
      "12/12 [==============================] - 0s 3ms/step - loss: 1.0744 - acc: 0.6740 - val_loss: 1.0612 - val_acc: 0.6780\n",
      "Epoch 12/20\n",
      "12/12 [==============================] - 0s 3ms/step - loss: 1.0714 - acc: 0.6771 - val_loss: 1.0578 - val_acc: 0.6860\n",
      "Epoch 13/20\n",
      "12/12 [==============================] - 0s 3ms/step - loss: 1.0691 - acc: 0.6782 - val_loss: 1.0558 - val_acc: 0.6810\n",
      "Epoch 14/20\n",
      "12/12 [==============================] - 0s 3ms/step - loss: 1.0672 - acc: 0.6778 - val_loss: 1.0590 - val_acc: 0.6790\n",
      "Epoch 15/20\n",
      "12/12 [==============================] - 0s 3ms/step - loss: 1.0659 - acc: 0.6780 - val_loss: 1.0537 - val_acc: 0.6810\n",
      "Epoch 16/20\n",
      "12/12 [==============================] - 0s 3ms/step - loss: 1.0644 - acc: 0.6773 - val_loss: 1.0526 - val_acc: 0.6830\n",
      "Epoch 17/20\n",
      "12/12 [==============================] - 0s 3ms/step - loss: 1.0625 - acc: 0.6771 - val_loss: 1.0519 - val_acc: 0.6830\n",
      "Epoch 18/20\n",
      "12/12 [==============================] - 0s 3ms/step - loss: 1.0619 - acc: 0.6759 - val_loss: 1.0520 - val_acc: 0.6840\n",
      "Epoch 19/20\n",
      "12/12 [==============================] - 0s 3ms/step - loss: 1.0608 - acc: 0.6778 - val_loss: 1.0498 - val_acc: 0.6850\n",
      "Epoch 20/20\n",
      "12/12 [==============================] - 0s 3ms/step - loss: 1.0595 - acc: 0.6771 - val_loss: 1.0507 - val_acc: 0.6840\n",
      "Epoch 1/9\n",
      "12/12 [==============================] - 0s 5ms/step - loss: 1.0584 - acc: 0.6786 - val_loss: 1.0502 - val_acc: 0.6850\n",
      "Epoch 2/9\n",
      "12/12 [==============================] - 0s 3ms/step - loss: 1.0579 - acc: 0.6771 - val_loss: 1.0525 - val_acc: 0.6820\n",
      "Epoch 3/9\n",
      "12/12 [==============================] - 0s 7ms/step - loss: 1.0574 - acc: 0.6786 - val_loss: 1.0497 - val_acc: 0.6830\n",
      "Epoch 4/9\n",
      "12/12 [==============================] - 0s 4ms/step - loss: 1.0567 - acc: 0.6780 - val_loss: 1.0491 - val_acc: 0.6840\n",
      "Epoch 5/9\n",
      "12/12 [==============================] - 0s 3ms/step - loss: 1.0561 - acc: 0.6784 - val_loss: 1.0480 - val_acc: 0.6850\n",
      "Epoch 6/9\n",
      "12/12 [==============================] - 0s 3ms/step - loss: 1.0552 - acc: 0.6791 - val_loss: 1.0501 - val_acc: 0.6850\n",
      "Epoch 7/9\n",
      "12/12 [==============================] - 0s 3ms/step - loss: 1.0552 - acc: 0.6775 - val_loss: 1.0492 - val_acc: 0.6840\n",
      "Epoch 8/9\n",
      "12/12 [==============================] - 0s 3ms/step - loss: 1.0542 - acc: 0.6778 - val_loss: 1.0473 - val_acc: 0.6840\n",
      "Epoch 9/9\n",
      "12/12 [==============================] - 0s 4ms/step - loss: 1.0539 - acc: 0.6786 - val_loss: 1.0497 - val_acc: 0.6820\n",
      "68/68 [==============================] - 0s 643us/step - loss: 1.0594 - acc: 0.6704\n"
     ]
    }
   ],
   "source": [
    "model1a = models.Sequential()\n",
    "model1a.add(layers.Dense(32, activation='relu', input_shape=(6,)))\n",
    "model1a.add(layers.Dense(32, activation='relu'))\n",
    "model1a.add(layers.Dense(7, activation='softmax'))\n",
    "\n",
    "model1a.compile(optimizer='rmsprop', loss='categorical_crossentropy', metrics=['acc'])\n",
    "\n",
    "history1a = model1a.fit(x_train, y_train, epochs=20, batch_size=512, validation_data=(x_val, y_val))\n",
    "\n",
    "model1a.fit(x_train, y_train, epochs=9, batch_size=512, validation_data=(x_val, y_val))\n",
    "results1a = model1a.evaluate(test_data, test_label) "
   ]
  },
  {
   "cell_type": "code",
   "execution_count": 8,
   "metadata": {},
   "outputs": [
    {
     "name": "stdout",
     "output_type": "stream",
     "text": [
      "Epoch 1/20\n",
      "12/12 [==============================] - 0s 12ms/step - loss: 1.4799 - acc: 0.5929 - val_loss: 1.1346 - val_acc: 0.6760\n",
      "Epoch 2/20\n",
      "12/12 [==============================] - 0s 4ms/step - loss: 1.1131 - acc: 0.6711 - val_loss: 1.0695 - val_acc: 0.6740\n",
      "Epoch 3/20\n",
      "12/12 [==============================] - 0s 4ms/step - loss: 1.0804 - acc: 0.6752 - val_loss: 1.0645 - val_acc: 0.6780\n",
      "Epoch 4/20\n",
      "12/12 [==============================] - 0s 4ms/step - loss: 1.0719 - acc: 0.6738 - val_loss: 1.0582 - val_acc: 0.6800\n",
      "Epoch 5/20\n",
      "12/12 [==============================] - 0s 3ms/step - loss: 1.0665 - acc: 0.6756 - val_loss: 1.0735 - val_acc: 0.6720\n",
      "Epoch 6/20\n",
      "12/12 [==============================] - 0s 3ms/step - loss: 1.0646 - acc: 0.6740 - val_loss: 1.0574 - val_acc: 0.6840\n",
      "Epoch 7/20\n",
      "12/12 [==============================] - 0s 3ms/step - loss: 1.0617 - acc: 0.6756 - val_loss: 1.0532 - val_acc: 0.6810\n",
      "Epoch 8/20\n",
      "12/12 [==============================] - 0s 4ms/step - loss: 1.0590 - acc: 0.6766 - val_loss: 1.0609 - val_acc: 0.6820\n",
      "Epoch 9/20\n",
      "12/12 [==============================] - 0s 4ms/step - loss: 1.0586 - acc: 0.6771 - val_loss: 1.0678 - val_acc: 0.6800\n",
      "Epoch 10/20\n",
      "12/12 [==============================] - 0s 4ms/step - loss: 1.0568 - acc: 0.6766 - val_loss: 1.0657 - val_acc: 0.6820\n",
      "Epoch 11/20\n",
      "12/12 [==============================] - 0s 3ms/step - loss: 1.0557 - acc: 0.6756 - val_loss: 1.0580 - val_acc: 0.6850\n",
      "Epoch 12/20\n",
      "12/12 [==============================] - 0s 3ms/step - loss: 1.0531 - acc: 0.6768 - val_loss: 1.0557 - val_acc: 0.6830\n",
      "Epoch 13/20\n",
      "12/12 [==============================] - 0s 3ms/step - loss: 1.0534 - acc: 0.6763 - val_loss: 1.0518 - val_acc: 0.6820\n",
      "Epoch 14/20\n",
      "12/12 [==============================] - 0s 3ms/step - loss: 1.0517 - acc: 0.6771 - val_loss: 1.0686 - val_acc: 0.6830\n",
      "Epoch 15/20\n",
      "12/12 [==============================] - 0s 4ms/step - loss: 1.0541 - acc: 0.6778 - val_loss: 1.0613 - val_acc: 0.6800\n",
      "Epoch 16/20\n",
      "12/12 [==============================] - 0s 5ms/step - loss: 1.0502 - acc: 0.6754 - val_loss: 1.0537 - val_acc: 0.6820\n",
      "Epoch 17/20\n",
      "12/12 [==============================] - 0s 5ms/step - loss: 1.0521 - acc: 0.6756 - val_loss: 1.0588 - val_acc: 0.6870\n",
      "Epoch 18/20\n",
      "12/12 [==============================] - 0s 4ms/step - loss: 1.0497 - acc: 0.6766 - val_loss: 1.0533 - val_acc: 0.6790\n",
      "Epoch 19/20\n",
      "12/12 [==============================] - 0s 4ms/step - loss: 1.0496 - acc: 0.6763 - val_loss: 1.0585 - val_acc: 0.6810\n",
      "Epoch 20/20\n",
      "12/12 [==============================] - 0s 4ms/step - loss: 1.0481 - acc: 0.6778 - val_loss: 1.0621 - val_acc: 0.6840\n",
      "Epoch 1/9\n",
      "12/12 [==============================] - 0s 5ms/step - loss: 1.0477 - acc: 0.6766 - val_loss: 1.0567 - val_acc: 0.6830\n",
      "Epoch 2/9\n",
      "12/12 [==============================] - 0s 4ms/step - loss: 1.0480 - acc: 0.6761 - val_loss: 1.0589 - val_acc: 0.6790\n",
      "Epoch 3/9\n",
      "12/12 [==============================] - 0s 4ms/step - loss: 1.0474 - acc: 0.6777 - val_loss: 1.0521 - val_acc: 0.6830\n",
      "Epoch 4/9\n",
      "12/12 [==============================] - 0s 4ms/step - loss: 1.0460 - acc: 0.6778 - val_loss: 1.0635 - val_acc: 0.6820\n",
      "Epoch 5/9\n",
      "12/12 [==============================] - 0s 4ms/step - loss: 1.0467 - acc: 0.6775 - val_loss: 1.0516 - val_acc: 0.6810\n",
      "Epoch 6/9\n",
      "12/12 [==============================] - 0s 4ms/step - loss: 1.0455 - acc: 0.6773 - val_loss: 1.0725 - val_acc: 0.6840\n",
      "Epoch 7/9\n",
      "12/12 [==============================] - 0s 4ms/step - loss: 1.0460 - acc: 0.6777 - val_loss: 1.0672 - val_acc: 0.6830\n",
      "Epoch 8/9\n",
      "12/12 [==============================] - 0s 4ms/step - loss: 1.0465 - acc: 0.6773 - val_loss: 1.0562 - val_acc: 0.6820\n",
      "Epoch 9/9\n",
      "12/12 [==============================] - 0s 3ms/step - loss: 1.0447 - acc: 0.6777 - val_loss: 1.0495 - val_acc: 0.6820\n",
      "68/68 [==============================] - 0s 599us/step - loss: 1.0598 - acc: 0.6699\n"
     ]
    }
   ],
   "source": [
    "model1b = models.Sequential()\n",
    "model1b.add(layers.Dense(128, activation='relu', input_shape=(6,)))\n",
    "model1b.add(layers.Dense(128, activation='relu'))\n",
    "model1b.add(layers.Dense(7, activation='softmax'))\n",
    "\n",
    "model1b.compile(optimizer='rmsprop', loss='categorical_crossentropy', metrics=['acc'])\n",
    "\n",
    "history1b = model1b.fit(x_train, y_train, epochs=20, batch_size=512, validation_data=(x_val, y_val))\n",
    "\n",
    "model1b.fit(x_train, y_train, epochs=9, batch_size=512, validation_data=(x_val, y_val))\n",
    "results1b = model1b.evaluate(test_data, test_label) "
   ]
  },
  {
   "cell_type": "code",
   "execution_count": 9,
   "metadata": {},
   "outputs": [
    {
     "name": "stdout",
     "output_type": "stream",
     "text": [
      "Test Results:\n",
      "   32 Hidden Units  = [1.0593963861465454, 0.670380711555481]\n",
      "   Base (64 Units)  = [1.0577044486999512, 0.6694521903991699]\n",
      "   128 Hidden Units = [1.0598390102386475, 0.6699164509773254]\n"
     ]
    }
   ],
   "source": [
    "print(\"Test Results:\")\n",
    "print(\"   32 Hidden Units  =\", results1a)\n",
    "print(\"   Base (64 Units)  =\", results)\n",
    "print(\"   128 Hidden Units =\", results1b)"
   ]
  },
  {
   "cell_type": "markdown",
   "metadata": {},
   "source": [
    "#### Experiment #7\n",
    "\n",
    "You used two hidden layers. Now try using a single hidden layer, or three hidden layers."
   ]
  },
  {
   "cell_type": "code",
   "execution_count": 10,
   "metadata": {},
   "outputs": [
    {
     "name": "stdout",
     "output_type": "stream",
     "text": [
      "Epoch 1/20\n",
      "12/12 [==============================] - 0s 11ms/step - loss: 1.9952 - acc: 0.1188 - val_loss: 1.8191 - val_acc: 0.2090\n",
      "Epoch 2/20\n",
      "12/12 [==============================] - 0s 3ms/step - loss: 1.7259 - acc: 0.3598 - val_loss: 1.6185 - val_acc: 0.5840\n",
      "Epoch 3/20\n",
      "12/12 [==============================] - 0s 3ms/step - loss: 1.5464 - acc: 0.6342 - val_loss: 1.4630 - val_acc: 0.6700\n",
      "Epoch 4/20\n",
      "12/12 [==============================] - 0s 3ms/step - loss: 1.4045 - acc: 0.6697 - val_loss: 1.3405 - val_acc: 0.6770\n",
      "Epoch 5/20\n",
      "12/12 [==============================] - 0s 3ms/step - loss: 1.2952 - acc: 0.6715 - val_loss: 1.2467 - val_acc: 0.6770\n",
      "Epoch 6/20\n",
      "12/12 [==============================] - 0s 3ms/step - loss: 1.2139 - acc: 0.6722 - val_loss: 1.1789 - val_acc: 0.6760\n",
      "Epoch 7/20\n",
      "12/12 [==============================] - 0s 3ms/step - loss: 1.1569 - acc: 0.6724 - val_loss: 1.1334 - val_acc: 0.6760\n",
      "Epoch 8/20\n",
      "12/12 [==============================] - 0s 3ms/step - loss: 1.1208 - acc: 0.6727 - val_loss: 1.1027 - val_acc: 0.6760\n",
      "Epoch 9/20\n",
      "12/12 [==============================] - 0s 3ms/step - loss: 1.0983 - acc: 0.6733 - val_loss: 1.0844 - val_acc: 0.6760\n",
      "Epoch 10/20\n",
      "12/12 [==============================] - 0s 3ms/step - loss: 1.0849 - acc: 0.6734 - val_loss: 1.0736 - val_acc: 0.6780\n",
      "Epoch 11/20\n",
      "12/12 [==============================] - 0s 3ms/step - loss: 1.0774 - acc: 0.6727 - val_loss: 1.0663 - val_acc: 0.6780\n",
      "Epoch 12/20\n",
      "12/12 [==============================] - 0s 3ms/step - loss: 1.0724 - acc: 0.6734 - val_loss: 1.0627 - val_acc: 0.6780\n",
      "Epoch 13/20\n",
      "12/12 [==============================] - 0s 3ms/step - loss: 1.0693 - acc: 0.6738 - val_loss: 1.0608 - val_acc: 0.6790\n",
      "Epoch 14/20\n",
      "12/12 [==============================] - 0s 3ms/step - loss: 1.0669 - acc: 0.6745 - val_loss: 1.0581 - val_acc: 0.6800\n",
      "Epoch 15/20\n",
      "12/12 [==============================] - 0s 3ms/step - loss: 1.0651 - acc: 0.6747 - val_loss: 1.0584 - val_acc: 0.6810\n",
      "Epoch 16/20\n",
      "12/12 [==============================] - 0s 3ms/step - loss: 1.0636 - acc: 0.6745 - val_loss: 1.0574 - val_acc: 0.6810\n",
      "Epoch 17/20\n",
      "12/12 [==============================] - 0s 3ms/step - loss: 1.0627 - acc: 0.6747 - val_loss: 1.0564 - val_acc: 0.6810\n",
      "Epoch 18/20\n",
      "12/12 [==============================] - 0s 3ms/step - loss: 1.0616 - acc: 0.6745 - val_loss: 1.0542 - val_acc: 0.6810\n",
      "Epoch 19/20\n",
      "12/12 [==============================] - 0s 3ms/step - loss: 1.0607 - acc: 0.6752 - val_loss: 1.0532 - val_acc: 0.6810\n",
      "Epoch 20/20\n",
      "12/12 [==============================] - 0s 3ms/step - loss: 1.0597 - acc: 0.6756 - val_loss: 1.0536 - val_acc: 0.6820\n",
      "Epoch 1/9\n",
      "12/12 [==============================] - 0s 4ms/step - loss: 1.0588 - acc: 0.6752 - val_loss: 1.0530 - val_acc: 0.6790\n",
      "Epoch 2/9\n",
      "12/12 [==============================] - 0s 3ms/step - loss: 1.0583 - acc: 0.6757 - val_loss: 1.0520 - val_acc: 0.6830\n",
      "Epoch 3/9\n",
      "12/12 [==============================] - 0s 3ms/step - loss: 1.0579 - acc: 0.6756 - val_loss: 1.0510 - val_acc: 0.6800\n",
      "Epoch 4/9\n",
      "12/12 [==============================] - 0s 3ms/step - loss: 1.0569 - acc: 0.6756 - val_loss: 1.0507 - val_acc: 0.6800\n",
      "Epoch 5/9\n",
      "12/12 [==============================] - 0s 3ms/step - loss: 1.0565 - acc: 0.6766 - val_loss: 1.0514 - val_acc: 0.6810\n",
      "Epoch 6/9\n",
      "12/12 [==============================] - 0s 3ms/step - loss: 1.0560 - acc: 0.6768 - val_loss: 1.0504 - val_acc: 0.6820\n",
      "Epoch 7/9\n",
      "12/12 [==============================] - 0s 3ms/step - loss: 1.0557 - acc: 0.6764 - val_loss: 1.0504 - val_acc: 0.6790\n",
      "Epoch 8/9\n",
      "12/12 [==============================] - 0s 3ms/step - loss: 1.0551 - acc: 0.6763 - val_loss: 1.0506 - val_acc: 0.6810\n",
      "Epoch 9/9\n",
      "12/12 [==============================] - 0s 3ms/step - loss: 1.0549 - acc: 0.6766 - val_loss: 1.0516 - val_acc: 0.6810\n",
      "68/68 [==============================] - 0s 574us/step - loss: 1.0666 - acc: 0.6671\n"
     ]
    }
   ],
   "source": [
    "model2a = models.Sequential()\n",
    "model2a.add(layers.Dense(64, activation='relu', input_shape=(6,)))\n",
    "model2a.add(layers.Dense(7, activation='softmax'))\n",
    "\n",
    "model2a.compile(optimizer='rmsprop', loss='categorical_crossentropy', metrics=['acc'])\n",
    "\n",
    "history2a = model2a.fit(x_train, y_train, epochs=20, batch_size=512, validation_data=(x_val, y_val))\n",
    "\n",
    "model2a.fit(x_train, y_train, epochs=9, batch_size=512, validation_data=(x_val, y_val))\n",
    "results2a = model2a.evaluate(test_data, test_label) "
   ]
  },
  {
   "cell_type": "code",
   "execution_count": 11,
   "metadata": {},
   "outputs": [
    {
     "name": "stdout",
     "output_type": "stream",
     "text": [
      "Epoch 1/20\n",
      "12/12 [==============================] - 0s 11ms/step - loss: 1.5399 - acc: 0.5966 - val_loss: 1.1857 - val_acc: 0.6760\n",
      "Epoch 2/20\n",
      "12/12 [==============================] - 0s 3ms/step - loss: 1.1385 - acc: 0.6708 - val_loss: 1.0748 - val_acc: 0.6770\n",
      "Epoch 3/20\n",
      "12/12 [==============================] - 0s 3ms/step - loss: 1.0855 - acc: 0.6734 - val_loss: 1.0681 - val_acc: 0.6790\n",
      "Epoch 4/20\n",
      "12/12 [==============================] - 0s 3ms/step - loss: 1.0752 - acc: 0.6750 - val_loss: 1.0563 - val_acc: 0.6830\n",
      "Epoch 5/20\n",
      "12/12 [==============================] - 0s 3ms/step - loss: 1.0700 - acc: 0.6752 - val_loss: 1.0525 - val_acc: 0.6820\n",
      "Epoch 6/20\n",
      "12/12 [==============================] - 0s 3ms/step - loss: 1.0660 - acc: 0.6770 - val_loss: 1.0565 - val_acc: 0.6850\n",
      "Epoch 7/20\n",
      "12/12 [==============================] - 0s 3ms/step - loss: 1.0622 - acc: 0.6770 - val_loss: 1.0750 - val_acc: 0.6810\n",
      "Epoch 8/20\n",
      "12/12 [==============================] - 0s 3ms/step - loss: 1.0621 - acc: 0.6764 - val_loss: 1.0731 - val_acc: 0.6750\n",
      "Epoch 9/20\n",
      "12/12 [==============================] - 0s 3ms/step - loss: 1.0624 - acc: 0.6770 - val_loss: 1.0538 - val_acc: 0.6800\n",
      "Epoch 10/20\n",
      "12/12 [==============================] - 0s 3ms/step - loss: 1.0585 - acc: 0.6778 - val_loss: 1.0909 - val_acc: 0.6690\n",
      "Epoch 11/20\n",
      "12/12 [==============================] - 0s 3ms/step - loss: 1.0591 - acc: 0.6761 - val_loss: 1.0573 - val_acc: 0.6820\n",
      "Epoch 12/20\n",
      "12/12 [==============================] - 0s 3ms/step - loss: 1.0578 - acc: 0.6764 - val_loss: 1.0499 - val_acc: 0.6820\n",
      "Epoch 13/20\n",
      "12/12 [==============================] - 0s 3ms/step - loss: 1.0559 - acc: 0.6775 - val_loss: 1.0646 - val_acc: 0.6800\n",
      "Epoch 14/20\n",
      "12/12 [==============================] - 0s 3ms/step - loss: 1.0568 - acc: 0.6759 - val_loss: 1.0702 - val_acc: 0.6780\n",
      "Epoch 15/20\n",
      "12/12 [==============================] - 0s 3ms/step - loss: 1.0553 - acc: 0.6780 - val_loss: 1.0515 - val_acc: 0.6850\n",
      "Epoch 16/20\n",
      "12/12 [==============================] - 0s 3ms/step - loss: 1.0528 - acc: 0.6764 - val_loss: 1.0571 - val_acc: 0.6850\n",
      "Epoch 17/20\n",
      "12/12 [==============================] - 0s 3ms/step - loss: 1.0529 - acc: 0.6763 - val_loss: 1.0535 - val_acc: 0.6830\n",
      "Epoch 18/20\n",
      "12/12 [==============================] - 0s 3ms/step - loss: 1.0524 - acc: 0.6777 - val_loss: 1.0510 - val_acc: 0.6840\n",
      "Epoch 19/20\n",
      "12/12 [==============================] - 0s 3ms/step - loss: 1.0518 - acc: 0.6782 - val_loss: 1.0524 - val_acc: 0.6860\n",
      "Epoch 20/20\n",
      "12/12 [==============================] - 0s 3ms/step - loss: 1.0522 - acc: 0.6768 - val_loss: 1.0533 - val_acc: 0.6800\n",
      "Epoch 1/9\n",
      "12/12 [==============================] - 0s 5ms/step - loss: 1.0513 - acc: 0.6770 - val_loss: 1.0560 - val_acc: 0.6830\n",
      "Epoch 2/9\n",
      "12/12 [==============================] - 0s 3ms/step - loss: 1.0509 - acc: 0.6768 - val_loss: 1.0572 - val_acc: 0.6820\n",
      "Epoch 3/9\n",
      "12/12 [==============================] - 0s 3ms/step - loss: 1.0492 - acc: 0.6764 - val_loss: 1.0495 - val_acc: 0.6830\n",
      "Epoch 4/9\n",
      "12/12 [==============================] - 0s 3ms/step - loss: 1.0484 - acc: 0.6773 - val_loss: 1.0561 - val_acc: 0.6840\n",
      "Epoch 5/9\n",
      "12/12 [==============================] - 0s 3ms/step - loss: 1.0514 - acc: 0.6778 - val_loss: 1.0537 - val_acc: 0.6810\n",
      "Epoch 6/9\n",
      "12/12 [==============================] - 0s 3ms/step - loss: 1.0468 - acc: 0.6777 - val_loss: 1.0524 - val_acc: 0.6850\n",
      "Epoch 7/9\n",
      "12/12 [==============================] - 0s 3ms/step - loss: 1.0475 - acc: 0.6763 - val_loss: 1.0540 - val_acc: 0.6810\n",
      "Epoch 8/9\n",
      "12/12 [==============================] - 0s 3ms/step - loss: 1.0478 - acc: 0.6777 - val_loss: 1.0524 - val_acc: 0.6850\n",
      "Epoch 9/9\n",
      "12/12 [==============================] - 0s 3ms/step - loss: 1.0457 - acc: 0.6773 - val_loss: 1.0631 - val_acc: 0.6850\n",
      "68/68 [==============================] - 0s 604us/step - loss: 1.0672 - acc: 0.6727\n"
     ]
    }
   ],
   "source": [
    "model2b = models.Sequential()\n",
    "model2b.add(layers.Dense(64, activation='relu', input_shape=(6,)))\n",
    "model2b.add(layers.Dense(64, activation='relu'))\n",
    "model2b.add(layers.Dense(64, activation='relu'))\n",
    "model2b.add(layers.Dense(7, activation='softmax'))\n",
    "\n",
    "model2b.compile(optimizer='rmsprop', loss='categorical_crossentropy', metrics=['acc'])\n",
    "\n",
    "history2b = model2b.fit(x_train, y_train, epochs=20, batch_size=512, validation_data=(x_val, y_val))\n",
    "\n",
    "model2b.fit(x_train, y_train, epochs=9, batch_size=512, validation_data=(x_val, y_val))\n",
    "results2b = model2b.evaluate(test_data, test_label) "
   ]
  },
  {
   "cell_type": "code",
   "execution_count": 12,
   "metadata": {},
   "outputs": [
    {
     "name": "stdout",
     "output_type": "stream",
     "text": [
      "Test Results:\n",
      "   1 Hidden Layer  = [1.0665624141693115, 0.6671309471130371]\n",
      "   Base (2 Layers) = [1.0577044486999512, 0.6694521903991699]\n",
      "   3 Hidden Layers = [1.067157506942749, 0.6727019548416138]\n"
     ]
    }
   ],
   "source": [
    "print(\"Test Results:\")\n",
    "print(\"   1 Hidden Layer  =\", results2a)\n",
    "print(\"   Base (2 Layers) =\", results)\n",
    "print(\"   3 Hidden Layers =\", results2b)"
   ]
  }
 ],
 "metadata": {
  "kernelspec": {
   "display_name": "Python 3.10.6 ('cpsc393')",
   "language": "python",
   "name": "python3"
  },
  "language_info": {
   "codemirror_mode": {
    "name": "ipython",
    "version": 3
   },
   "file_extension": ".py",
   "mimetype": "text/x-python",
   "name": "python",
   "nbconvert_exporter": "python",
   "pygments_lexer": "ipython3",
   "version": "3.10.6"
  },
  "orig_nbformat": 4,
  "vscode": {
   "interpreter": {
    "hash": "28a5636232597662a740693699a81b2003c63a3cbfdc6b6b9821f1776a352cce"
   }
  }
 },
 "nbformat": 4,
 "nbformat_minor": 2
}
