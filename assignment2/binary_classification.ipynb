{
 "cells": [
  {
   "cell_type": "markdown",
   "metadata": {},
   "source": [
    "## Assignment 2: Binary Classification Example"
   ]
  },
  {
   "cell_type": "code",
   "execution_count": 25,
   "metadata": {},
   "outputs": [],
   "source": [
    "import pandas as pd\n",
    "import numpy as np\n",
    "import matplotlib.pyplot as plt\n",
    "\n",
    "import keras\n",
    "from keras import models\n",
    "from keras import layers"
   ]
  },
  {
   "cell_type": "markdown",
   "metadata": {},
   "source": [
    "### 3.4 Example using credit data (from a previous class)"
   ]
  },
  {
   "cell_type": "code",
   "execution_count": 26,
   "metadata": {},
   "outputs": [
    {
     "name": "stdout",
     "output_type": "stream",
     "text": [
      "   default  utilization  age  debt_ratio  income  open_credit_lines  \\\n",
      "0        1     0.766127   45    0.802982  9120.0                 13   \n",
      "1        0     0.957151   40    0.121876  2600.0                  4   \n",
      "2        0     0.658180   38    0.085113  3042.0                  2   \n",
      "3        0     0.233810   30    0.036050  3300.0                  5   \n",
      "4        0     0.213179   74    0.375607  3500.0                  3   \n",
      "\n",
      "   real_estate_loan  dependents  ever_past_due  \n",
      "0                 1           2              1  \n",
      "1                 0           1              0  \n",
      "2                 0           0              1  \n",
      "3                 0           0              0  \n",
      "4                 1           1              0  \n",
      "<class 'pandas.core.frame.DataFrame'>\n",
      "RangeIndex: 73304 entries, 0 to 73303\n",
      "Data columns (total 9 columns):\n",
      " #   Column             Non-Null Count  Dtype  \n",
      "---  ------             --------------  -----  \n",
      " 0   default            73304 non-null  int64  \n",
      " 1   utilization        73304 non-null  float64\n",
      " 2   age                73304 non-null  int64  \n",
      " 3   debt_ratio         73304 non-null  float64\n",
      " 4   income             73304 non-null  float64\n",
      " 5   open_credit_lines  73304 non-null  int64  \n",
      " 6   real_estate_loan   73304 non-null  int64  \n",
      " 7   dependents         73304 non-null  int64  \n",
      " 8   ever_past_due      73304 non-null  int64  \n",
      "dtypes: float64(3), int64(6)\n",
      "memory usage: 5.0 MB\n",
      "None\n"
     ]
    }
   ],
   "source": [
    "# import data (pre-split into training and testing sets)\n",
    "training = pd.read_csv(\"credit_train.csv\")\n",
    "testing = pd.read_csv(\"credit_test.csv\")\n",
    "print(training.head())\n",
    "print(training.info()) \n",
    "\n",
    "# data is based on credit card data \n",
    "# output variable (default) is whether the customer defaulted on their debt\n",
    "\n",
    "# extracting only values gets rid of the dataframe column headings\n",
    "training_set = training.values\n",
    "testing_set = testing.values\n",
    "\n",
    "# first column is output (default)\n",
    "train_data = training_set[:,1:9]\n",
    "test_data = testing_set[:,1:9]\n",
    "\n",
    "mean = train_data.mean(axis=0)\n",
    "train_data -= mean\n",
    "std = train_data.std(axis=0)\n",
    "train_data /= std\n",
    "test_data -= mean\n",
    "test_data /= std\n",
    "\n",
    "train_label = training_set[:,0]\n",
    "test_label = testing_set[:,0]\n",
    "\n",
    "# splitting the training data into two for validation while training\n",
    "x_val = train_data[:10000]\n",
    "x_train = train_data[10000:]\n",
    "y_val = train_label[:10000]\n",
    "y_train = train_label[10000:]"
   ]
  },
  {
   "cell_type": "code",
   "execution_count": 50,
   "metadata": {},
   "outputs": [
    {
     "name": "stdout",
     "output_type": "stream",
     "text": [
      "(73304, 8)\n",
      "(12936, 8)\n"
     ]
    }
   ],
   "source": [
    "print(train_data.shape)\n",
    "print(test_data.shape)"
   ]
  },
  {
   "cell_type": "code",
   "execution_count": 27,
   "metadata": {},
   "outputs": [
    {
     "name": "stdout",
     "output_type": "stream",
     "text": [
      "Epoch 1/20\n",
      "124/124 [==============================] - 1s 2ms/step - loss: 0.5021 - acc: 0.7983 - val_loss: 0.2777 - val_acc: 0.9370\n",
      "Epoch 2/20\n",
      "124/124 [==============================] - 0s 1ms/step - loss: 0.2423 - acc: 0.9325 - val_loss: 0.2177 - val_acc: 0.9370\n",
      "Epoch 3/20\n",
      "124/124 [==============================] - 0s 960us/step - loss: 0.2237 - acc: 0.9325 - val_loss: 0.2130 - val_acc: 0.9370\n",
      "Epoch 4/20\n",
      "124/124 [==============================] - 0s 1ms/step - loss: 0.2205 - acc: 0.9325 - val_loss: 0.2110 - val_acc: 0.9370\n",
      "Epoch 5/20\n",
      "124/124 [==============================] - 0s 973us/step - loss: 0.2190 - acc: 0.9325 - val_loss: 0.2099 - val_acc: 0.9370\n",
      "Epoch 6/20\n",
      "124/124 [==============================] - 0s 976us/step - loss: 0.2180 - acc: 0.9325 - val_loss: 0.2089 - val_acc: 0.9370\n",
      "Epoch 7/20\n",
      "124/124 [==============================] - 0s 963us/step - loss: 0.2173 - acc: 0.9325 - val_loss: 0.2085 - val_acc: 0.9370\n",
      "Epoch 8/20\n",
      "124/124 [==============================] - 0s 972us/step - loss: 0.2166 - acc: 0.9325 - val_loss: 0.2080 - val_acc: 0.9370\n",
      "Epoch 9/20\n",
      "124/124 [==============================] - 0s 1ms/step - loss: 0.2162 - acc: 0.9325 - val_loss: 0.2076 - val_acc: 0.9370\n",
      "Epoch 10/20\n",
      "124/124 [==============================] - 0s 1ms/step - loss: 0.2158 - acc: 0.9325 - val_loss: 0.2077 - val_acc: 0.9370\n",
      "Epoch 11/20\n",
      "124/124 [==============================] - 0s 1ms/step - loss: 0.2155 - acc: 0.9325 - val_loss: 0.2073 - val_acc: 0.9370\n",
      "Epoch 12/20\n",
      "124/124 [==============================] - 0s 1ms/step - loss: 0.2151 - acc: 0.9325 - val_loss: 0.2070 - val_acc: 0.9370\n",
      "Epoch 13/20\n",
      "124/124 [==============================] - 0s 1ms/step - loss: 0.2149 - acc: 0.9325 - val_loss: 0.2065 - val_acc: 0.9370\n",
      "Epoch 14/20\n",
      "124/124 [==============================] - 0s 962us/step - loss: 0.2147 - acc: 0.9325 - val_loss: 0.2071 - val_acc: 0.9370\n",
      "Epoch 15/20\n",
      "124/124 [==============================] - 0s 935us/step - loss: 0.2145 - acc: 0.9325 - val_loss: 0.2068 - val_acc: 0.9370\n",
      "Epoch 16/20\n",
      "124/124 [==============================] - 0s 931us/step - loss: 0.2143 - acc: 0.9325 - val_loss: 0.2060 - val_acc: 0.9370\n",
      "Epoch 17/20\n",
      "124/124 [==============================] - 0s 936us/step - loss: 0.2142 - acc: 0.9325 - val_loss: 0.2066 - val_acc: 0.9370\n",
      "Epoch 18/20\n",
      "124/124 [==============================] - 0s 953us/step - loss: 0.2141 - acc: 0.9325 - val_loss: 0.2060 - val_acc: 0.9370\n",
      "Epoch 19/20\n",
      "124/124 [==============================] - 0s 947us/step - loss: 0.2139 - acc: 0.9325 - val_loss: 0.2061 - val_acc: 0.9370\n",
      "Epoch 20/20\n",
      "124/124 [==============================] - 0s 937us/step - loss: 0.2138 - acc: 0.9325 - val_loss: 0.2064 - val_acc: 0.9370\n"
     ]
    }
   ],
   "source": [
    "# the base model (the model compared against in further experiments)\n",
    "model = models.Sequential()\n",
    "model.add(layers.Dense(16, activation='relu', input_shape=(8,)))\n",
    "model.add(layers.Dense(16, activation='relu'))\n",
    "model.add(layers.Dense(1, activation='sigmoid'))\n",
    "\n",
    "model.compile(optimizer='rmsprop', loss='binary_crossentropy', metrics=['acc'])\n",
    "\n",
    "# fits the model with 20 epochs and only some of the training data to validate model\n",
    "history = model.fit(x_train, y_train, epochs=20, batch_size=512, validation_data=(x_val, y_val))\n",
    "history_dict = history.history\n",
    "\n",
    "# generates metrics to be graphed \n",
    "loss_values = history_dict['loss']\n",
    "val_loss_values = history_dict['val_loss']\n",
    "epochs = range(1, len(loss_values) + 1)\n",
    "acc_values = history_dict['acc']\n",
    "val_acc_values = history_dict['val_acc'] "
   ]
  },
  {
   "cell_type": "code",
   "execution_count": 28,
   "metadata": {},
   "outputs": [
    {
     "data": {
      "image/png": "[encoded data removed]",
      "text/plain": [
       "<Figure size 640x480 with 1 Axes>"
      ]
     },
     "metadata": {},
     "output_type": "display_data"
    },
    {
     "data": {
      "image/png": "[encoded data removed]",
      "text/plain": [
       "<Figure size 640x480 with 1 Axes>"
      ]
     },
     "metadata": {},
     "output_type": "display_data"
    }
   ],
   "source": [
    "plt.plot(epochs, loss_values, 'bo', label='Training loss')\n",
    "plt.plot(epochs, val_loss_values, 'b', label='Validation loss')\n",
    "plt.title('Binary Classification\\nTraining and Validation Loss')\n",
    "plt.xlabel('Epochs')\n",
    "plt.ylabel('Loss')\n",
    "plt.legend(loc = 'upper right')\n",
    "plt.show()\n",
    "\n",
    "plt.clf() # Clears the figure\n",
    "plt.plot(epochs, acc_values, 'bo', label='Training acc')\n",
    "plt.plot(epochs, val_acc_values, 'b', label='Validation acc')\n",
    "plt.title('Training and validation accuracy')\n",
    "plt.xlabel('Epochs')\n",
    "plt.ylabel('Accuracy')\n",
    "plt.legend()\n",
    "plt.show()"
   ]
  },
  {
   "cell_type": "code",
   "execution_count": 44,
   "metadata": {},
   "outputs": [
    {
     "name": "stdout",
     "output_type": "stream",
     "text": [
      "Epoch 1/4\n",
      "144/144 [==============================] - 0s 948us/step - loss: 0.2118 - acc: 0.9331\n",
      "Epoch 2/4\n",
      "144/144 [==============================] - 0s 730us/step - loss: 0.2118 - acc: 0.9331\n",
      "Epoch 3/4\n",
      "144/144 [==============================] - 0s 733us/step - loss: 0.2117 - acc: 0.9331\n",
      "Epoch 4/4\n",
      "144/144 [==============================] - 0s 893us/step - loss: 0.2116 - acc: 0.9331\n",
      "\n",
      "405/405 [==============================] - 0s 687us/step - loss: 0.2189 - acc: 0.9312\n"
     ]
    },
    {
     "data": {
      "text/plain": [
       "[0.21893899142742157, 0.9311997294425964]"
      ]
     },
     "execution_count": 44,
     "metadata": {},
     "output_type": "execute_result"
    }
   ],
   "source": [
    "# uses 4 epochs based on the textbook example (not necessarily the optimal amount of epochs)\n",
    "base = model.fit(train_data, train_label, epochs=4, batch_size=512)\n",
    "\n",
    "print() # blank line for formatting\n",
    "results = model.evaluate(test_data, test_label) \n",
    "\n",
    "# prints out the results as an array [test loss, test accuracy]\n",
    "results"
   ]
  },
  {
   "cell_type": "code",
   "execution_count": 46,
   "metadata": {},
   "outputs": [
    {
     "data": {
      "text/plain": [
       "0.001900792121887207"
      ]
     },
     "execution_count": 46,
     "metadata": {},
     "output_type": "execute_result"
    }
   ],
   "source": [
    "np.mean(base.history['acc']) - results[1]   # training - testing accuracy "
   ]
  },
  {
   "cell_type": "code",
   "execution_count": 30,
   "metadata": {},
   "outputs": [
    {
     "name": "stdout",
     "output_type": "stream",
     "text": [
      "405/405 [==============================] - 0s 471us/step\n"
     ]
    },
    {
     "data": {
      "text/plain": [
       "array([[0.04859343],\n",
       "       [0.06247739],\n",
       "       [0.01777434],\n",
       "       ...,\n",
       "       [0.30227715],\n",
       "       [0.00617026],\n",
       "       [0.19192016]], dtype=float32)"
      ]
     },
     "execution_count": 30,
     "metadata": {},
     "output_type": "execute_result"
    }
   ],
   "source": [
    "# won't output binary values instead they are probabilities that the prediction is positive\n",
    "# (the person will default)\n",
    "model.predict(test_data) "
   ]
  },
  {
   "cell_type": "markdown",
   "metadata": {},
   "source": [
    "### Further experiments"
   ]
  },
  {
   "cell_type": "markdown",
   "metadata": {},
   "source": [
    "#### Experiment #1\n",
    "\n",
    "You used two hidden layers. Try using one or three hidden layers, and see how doing so affects validation and test accuracy."
   ]
  },
  {
   "cell_type": "code",
   "execution_count": 52,
   "metadata": {},
   "outputs": [
    {
     "name": "stdout",
     "output_type": "stream",
     "text": [
      "Epoch 1/20\n",
      "124/124 [==============================] - 1s 2ms/step - loss: 0.5485 - acc: 0.7401 - val_loss: 0.3391 - val_acc: 0.9257\n",
      "Epoch 2/20\n",
      "124/124 [==============================] - 0s 1ms/step - loss: 0.2790 - acc: 0.9300 - val_loss: 0.2300 - val_acc: 0.9369\n",
      "Epoch 3/20\n",
      "124/124 [==============================] - 0s 1ms/step - loss: 0.2304 - acc: 0.9325 - val_loss: 0.2139 - val_acc: 0.9370\n",
      "Epoch 4/20\n",
      "124/124 [==============================] - 0s 1ms/step - loss: 0.2225 - acc: 0.9325 - val_loss: 0.2105 - val_acc: 0.9370\n",
      "Epoch 5/20\n",
      "124/124 [==============================] - 0s 1ms/step - loss: 0.2200 - acc: 0.9325 - val_loss: 0.2093 - val_acc: 0.9370\n",
      "Epoch 6/20\n",
      "124/124 [==============================] - 0s 976us/step - loss: 0.2186 - acc: 0.9325 - val_loss: 0.2084 - val_acc: 0.9370\n",
      "Epoch 7/20\n",
      "124/124 [==============================] - 0s 909us/step - loss: 0.2176 - acc: 0.9325 - val_loss: 0.2079 - val_acc: 0.9370\n",
      "Epoch 8/20\n",
      "124/124 [==============================] - 0s 939us/step - loss: 0.2170 - acc: 0.9325 - val_loss: 0.2077 - val_acc: 0.9370\n",
      "Epoch 9/20\n",
      "124/124 [==============================] - 0s 1ms/step - loss: 0.2164 - acc: 0.9325 - val_loss: 0.2077 - val_acc: 0.9370\n",
      "Epoch 10/20\n",
      "124/124 [==============================] - 0s 1ms/step - loss: 0.2160 - acc: 0.9325 - val_loss: 0.2065 - val_acc: 0.9370\n",
      "Epoch 11/20\n",
      "124/124 [==============================] - 0s 1ms/step - loss: 0.2157 - acc: 0.9325 - val_loss: 0.2065 - val_acc: 0.9370\n",
      "Epoch 12/20\n",
      "124/124 [==============================] - 0s 954us/step - loss: 0.2155 - acc: 0.9325 - val_loss: 0.2062 - val_acc: 0.9370\n",
      "Epoch 13/20\n",
      "124/124 [==============================] - 0s 924us/step - loss: 0.2152 - acc: 0.9325 - val_loss: 0.2064 - val_acc: 0.9370\n",
      "Epoch 14/20\n",
      "124/124 [==============================] - 0s 1ms/step - loss: 0.2151 - acc: 0.9325 - val_loss: 0.2061 - val_acc: 0.9370\n",
      "Epoch 15/20\n",
      "124/124 [==============================] - 0s 1ms/step - loss: 0.2149 - acc: 0.9325 - val_loss: 0.2062 - val_acc: 0.9370\n",
      "Epoch 16/20\n",
      "124/124 [==============================] - 0s 966us/step - loss: 0.2148 - acc: 0.9325 - val_loss: 0.2062 - val_acc: 0.9370\n",
      "Epoch 17/20\n",
      "124/124 [==============================] - 0s 1ms/step - loss: 0.2147 - acc: 0.9325 - val_loss: 0.2061 - val_acc: 0.9370\n",
      "Epoch 18/20\n",
      "124/124 [==============================] - 0s 1ms/step - loss: 0.2146 - acc: 0.9325 - val_loss: 0.2057 - val_acc: 0.9370\n",
      "Epoch 19/20\n",
      "124/124 [==============================] - 0s 962us/step - loss: 0.2145 - acc: 0.9324 - val_loss: 0.2057 - val_acc: 0.9370\n",
      "Epoch 20/20\n",
      "124/124 [==============================] - 0s 920us/step - loss: 0.2144 - acc: 0.9325 - val_loss: 0.2057 - val_acc: 0.9370\n",
      "Epoch 1/4\n",
      "144/144 [==============================] - 0s 752us/step - loss: 0.2131 - acc: 0.9331\n",
      "Epoch 2/4\n",
      "144/144 [==============================] - 0s 754us/step - loss: 0.2130 - acc: 0.9331\n",
      "Epoch 3/4\n",
      "144/144 [==============================] - 0s 766us/step - loss: 0.2129 - acc: 0.9331\n",
      "Epoch 4/4\n",
      "144/144 [==============================] - 0s 764us/step - loss: 0.2129 - acc: 0.9331\n",
      "405/405 [==============================] - 0s 569us/step - loss: 0.2194 - acc: 0.9312\n"
     ]
    }
   ],
   "source": [
    "\n",
    "model1a = models.Sequential()\n",
    "model1a.add(layers.Dense(16, activation='relu', input_shape=(8,)))\n",
    "# gets rid of this second layer here\n",
    "model1a.add(layers.Dense(1, activation='sigmoid'))\n",
    "\n",
    "model1a.compile(optimizer='rmsprop', loss='binary_crossentropy', metrics=['acc'])\n",
    "\n",
    "model1a.fit(x_train, y_train, epochs=20, batch_size=512, validation_data=(x_val, y_val))\n",
    "\n",
    "model1a.fit(train_data, train_label, epochs=4, batch_size=512)\n",
    "\n",
    "results1a = model1a.evaluate(test_data, test_label) "
   ]
  },
  {
   "cell_type": "code",
   "execution_count": 53,
   "metadata": {},
   "outputs": [
    {
     "name": "stdout",
     "output_type": "stream",
     "text": [
      "Epoch 1/20\n",
      "124/124 [==============================] - 1s 2ms/step - loss: 0.3333 - acc: 0.9296 - val_loss: 0.2188 - val_acc: 0.9370\n",
      "Epoch 2/20\n",
      "124/124 [==============================] - 0s 1ms/step - loss: 0.2249 - acc: 0.9325 - val_loss: 0.2108 - val_acc: 0.9370\n",
      "Epoch 3/20\n",
      "124/124 [==============================] - 0s 1ms/step - loss: 0.2197 - acc: 0.9325 - val_loss: 0.2088 - val_acc: 0.9370\n",
      "Epoch 4/20\n",
      "124/124 [==============================] - 0s 1ms/step - loss: 0.2177 - acc: 0.9325 - val_loss: 0.2079 - val_acc: 0.9370\n",
      "Epoch 5/20\n",
      "124/124 [==============================] - 0s 1ms/step - loss: 0.2166 - acc: 0.9325 - val_loss: 0.2067 - val_acc: 0.9370\n",
      "Epoch 6/20\n",
      "124/124 [==============================] - 0s 1ms/step - loss: 0.2160 - acc: 0.9325 - val_loss: 0.2070 - val_acc: 0.9370\n",
      "Epoch 7/20\n",
      "124/124 [==============================] - 0s 1ms/step - loss: 0.2156 - acc: 0.9325 - val_loss: 0.2063 - val_acc: 0.9370\n",
      "Epoch 8/20\n",
      "124/124 [==============================] - 0s 1ms/step - loss: 0.2151 - acc: 0.9325 - val_loss: 0.2060 - val_acc: 0.9370\n",
      "Epoch 9/20\n",
      "124/124 [==============================] - 0s 1ms/step - loss: 0.2149 - acc: 0.9325 - val_loss: 0.2063 - val_acc: 0.9370\n",
      "Epoch 10/20\n",
      "124/124 [==============================] - 0s 1ms/step - loss: 0.2145 - acc: 0.9325 - val_loss: 0.2054 - val_acc: 0.9370\n",
      "Epoch 11/20\n",
      "124/124 [==============================] - 0s 1ms/step - loss: 0.2143 - acc: 0.9325 - val_loss: 0.2055 - val_acc: 0.9370\n",
      "Epoch 12/20\n",
      "124/124 [==============================] - 0s 1ms/step - loss: 0.2141 - acc: 0.9325 - val_loss: 0.2055 - val_acc: 0.9370\n",
      "Epoch 13/20\n",
      "124/124 [==============================] - 0s 1ms/step - loss: 0.2138 - acc: 0.9325 - val_loss: 0.2054 - val_acc: 0.9370\n",
      "Epoch 14/20\n",
      "124/124 [==============================] - 0s 1ms/step - loss: 0.2137 - acc: 0.9325 - val_loss: 0.2055 - val_acc: 0.9370\n",
      "Epoch 15/20\n",
      "124/124 [==============================] - 0s 1ms/step - loss: 0.2135 - acc: 0.9325 - val_loss: 0.2050 - val_acc: 0.9370\n",
      "Epoch 16/20\n",
      "124/124 [==============================] - 0s 1ms/step - loss: 0.2135 - acc: 0.9325 - val_loss: 0.2052 - val_acc: 0.9370\n",
      "Epoch 17/20\n",
      "124/124 [==============================] - 0s 1ms/step - loss: 0.2132 - acc: 0.9325 - val_loss: 0.2058 - val_acc: 0.9370\n",
      "Epoch 18/20\n",
      "124/124 [==============================] - 0s 1ms/step - loss: 0.2131 - acc: 0.9325 - val_loss: 0.2060 - val_acc: 0.9370\n",
      "Epoch 19/20\n",
      "124/124 [==============================] - 0s 1ms/step - loss: 0.2130 - acc: 0.9325 - val_loss: 0.2066 - val_acc: 0.9370\n",
      "Epoch 20/20\n",
      "124/124 [==============================] - 0s 1ms/step - loss: 0.2129 - acc: 0.9325 - val_loss: 0.2050 - val_acc: 0.9370\n",
      "Epoch 1/4\n",
      "144/144 [==============================] - 0s 837us/step - loss: 0.2118 - acc: 0.9331\n",
      "Epoch 2/4\n",
      "144/144 [==============================] - 0s 826us/step - loss: 0.2116 - acc: 0.9331\n",
      "Epoch 3/4\n",
      "144/144 [==============================] - 0s 836us/step - loss: 0.2116 - acc: 0.9331\n",
      "Epoch 4/4\n",
      "144/144 [==============================] - 0s 894us/step - loss: 0.2115 - acc: 0.9331\n",
      "405/405 [==============================] - 0s 562us/step - loss: 0.2184 - acc: 0.9312\n"
     ]
    }
   ],
   "source": [
    "model1b = models.Sequential()\n",
    "model1b.add(layers.Dense(16, activation='relu', input_shape=(8,)))\n",
    "model1b.add(layers.Dense(16, activation='relu'))\n",
    "# adds a second layer with the relu activation function to be the 3rd hidden layer\n",
    "model1b.add(layers.Dense(16, activation='relu'))\n",
    "model1b.add(layers.Dense(1, activation='sigmoid'))\n",
    "\n",
    "model1b.compile(optimizer='rmsprop', loss='binary_crossentropy', metrics=['acc'])\n",
    "\n",
    "model1b.fit(x_train, y_train, epochs=20, batch_size=512, validation_data=(x_val, y_val))\n",
    "\n",
    "model1b.fit(train_data, train_label, epochs=4, batch_size=512)\n",
    "\n",
    "results1b = model1b.evaluate(test_data, test_label) "
   ]
  },
  {
   "cell_type": "code",
   "execution_count": 54,
   "metadata": {},
   "outputs": [
    {
     "name": "stdout",
     "output_type": "stream",
     "text": [
      "Test Results:\n",
      "   1 Hidden Layer  = [0.21937890350818634, 0.9311997294425964]\n",
      "   Base (2 Layers) = [0.21893899142742157, 0.9311997294425964]\n",
      "   3 Hidden Layers = [0.2183694988489151, 0.9311997294425964]\n"
     ]
    }
   ],
   "source": [
    "print(\"Test Results:\")\n",
    "print(\"   1 Hidden Layer  =\", results1a)\n",
    "print(\"   Base (2 Layers) =\", results)\n",
    "print(\"   3 Hidden Layers =\", results1b)"
   ]
  },
  {
   "cell_type": "markdown",
   "metadata": {},
   "source": [
    "#### Experiment #2\n",
    "\n",
    "Try using layers with more hidden units or fewer hidden units: 32 units, 64 units, and so on."
   ]
  },
  {
   "cell_type": "code",
   "execution_count": 34,
   "metadata": {},
   "outputs": [
    {
     "name": "stdout",
     "output_type": "stream",
     "text": [
      "Epoch 1/20\n",
      "124/124 [==============================] - 1s 2ms/step - loss: 0.3545 - acc: 0.8897 - val_loss: 0.2175 - val_acc: 0.9370\n",
      "Epoch 2/20\n",
      "124/124 [==============================] - 0s 1ms/step - loss: 0.2208 - acc: 0.9325 - val_loss: 0.2103 - val_acc: 0.9370\n",
      "Epoch 3/20\n",
      "124/124 [==============================] - 0s 1ms/step - loss: 0.2174 - acc: 0.9325 - val_loss: 0.2078 - val_acc: 0.9370\n",
      "Epoch 4/20\n",
      "124/124 [==============================] - 0s 1ms/step - loss: 0.2160 - acc: 0.9325 - val_loss: 0.2090 - val_acc: 0.9371\n",
      "Epoch 5/20\n",
      "124/124 [==============================] - 0s 1ms/step - loss: 0.2154 - acc: 0.9325 - val_loss: 0.2064 - val_acc: 0.9370\n",
      "Epoch 6/20\n",
      "124/124 [==============================] - 0s 1ms/step - loss: 0.2148 - acc: 0.9325 - val_loss: 0.2069 - val_acc: 0.9371\n",
      "Epoch 7/20\n",
      "124/124 [==============================] - 0s 1ms/step - loss: 0.2145 - acc: 0.9325 - val_loss: 0.2062 - val_acc: 0.9370\n",
      "Epoch 8/20\n",
      "124/124 [==============================] - 0s 1ms/step - loss: 0.2141 - acc: 0.9325 - val_loss: 0.2060 - val_acc: 0.9370\n",
      "Epoch 9/20\n",
      "124/124 [==============================] - 0s 1ms/step - loss: 0.2138 - acc: 0.9325 - val_loss: 0.2061 - val_acc: 0.9370\n",
      "Epoch 10/20\n",
      "124/124 [==============================] - 0s 1ms/step - loss: 0.2136 - acc: 0.9325 - val_loss: 0.2054 - val_acc: 0.9370\n",
      "Epoch 11/20\n",
      "124/124 [==============================] - 0s 1ms/step - loss: 0.2133 - acc: 0.9325 - val_loss: 0.2049 - val_acc: 0.9370\n",
      "Epoch 12/20\n",
      "124/124 [==============================] - 0s 1ms/step - loss: 0.2132 - acc: 0.9325 - val_loss: 0.2051 - val_acc: 0.9371\n",
      "Epoch 13/20\n",
      "124/124 [==============================] - 0s 1ms/step - loss: 0.2128 - acc: 0.9325 - val_loss: 0.2049 - val_acc: 0.9370\n",
      "Epoch 14/20\n",
      "124/124 [==============================] - 0s 1ms/step - loss: 0.2128 - acc: 0.9325 - val_loss: 0.2047 - val_acc: 0.9370\n",
      "Epoch 15/20\n",
      "124/124 [==============================] - 0s 1ms/step - loss: 0.2125 - acc: 0.9325 - val_loss: 0.2051 - val_acc: 0.9370\n",
      "Epoch 16/20\n",
      "124/124 [==============================] - 0s 1ms/step - loss: 0.2126 - acc: 0.9325 - val_loss: 0.2056 - val_acc: 0.9369\n",
      "Epoch 17/20\n",
      "124/124 [==============================] - 0s 1ms/step - loss: 0.2123 - acc: 0.9325 - val_loss: 0.2051 - val_acc: 0.9369\n",
      "Epoch 18/20\n",
      "124/124 [==============================] - 0s 995us/step - loss: 0.2123 - acc: 0.9324 - val_loss: 0.2047 - val_acc: 0.9370\n",
      "Epoch 19/20\n",
      "124/124 [==============================] - 0s 1ms/step - loss: 0.2122 - acc: 0.9325 - val_loss: 0.2054 - val_acc: 0.9369\n",
      "Epoch 20/20\n",
      "124/124 [==============================] - 0s 1ms/step - loss: 0.2122 - acc: 0.9325 - val_loss: 0.2046 - val_acc: 0.9370\n",
      "Epoch 1/4\n",
      "144/144 [==============================] - 0s 824us/step - loss: 0.2110 - acc: 0.9331\n",
      "Epoch 2/4\n",
      "144/144 [==============================] - 0s 792us/step - loss: 0.2109 - acc: 0.9331\n",
      "Epoch 3/4\n",
      "144/144 [==============================] - 0s 877us/step - loss: 0.2109 - acc: 0.9331\n",
      "Epoch 4/4\n",
      "144/144 [==============================] - 0s 911us/step - loss: 0.2108 - acc: 0.9330\n",
      "405/405 [==============================] - 0s 769us/step - loss: 0.2175 - acc: 0.9312\n"
     ]
    }
   ],
   "source": [
    "model2a = models.Sequential()\n",
    "# changes the hidden units from 16 to 32\n",
    "model2a.add(layers.Dense(32, activation='relu', input_shape=(8,)))\n",
    "model2a.add(layers.Dense(32, activation='relu'))\n",
    "model2a.add(layers.Dense(1, activation='sigmoid'))\n",
    "\n",
    "model2a.compile(optimizer='rmsprop', loss='binary_crossentropy', metrics=['acc'])\n",
    "\n",
    "history2a = model2a.fit(x_train, y_train, epochs=20, batch_size=512, validation_data=(x_val, y_val))\n",
    "\n",
    "model2a.fit(train_data, train_label, epochs=4, batch_size=512)\n",
    "\n",
    "results2a = model2a.evaluate(test_data, test_label) "
   ]
  },
  {
   "cell_type": "code",
   "execution_count": 35,
   "metadata": {},
   "outputs": [
    {
     "name": "stdout",
     "output_type": "stream",
     "text": [
      "Epoch 1/20\n",
      "124/124 [==============================] - 1s 2ms/step - loss: 0.2476 - acc: 0.9324 - val_loss: 0.2103 - val_acc: 0.9370\n",
      "Epoch 2/20\n",
      "124/124 [==============================] - 0s 2ms/step - loss: 0.2181 - acc: 0.9325 - val_loss: 0.2075 - val_acc: 0.9370\n",
      "Epoch 3/20\n",
      "124/124 [==============================] - 0s 2ms/step - loss: 0.2158 - acc: 0.9325 - val_loss: 0.2064 - val_acc: 0.9370\n",
      "Epoch 4/20\n",
      "124/124 [==============================] - 0s 1ms/step - loss: 0.2147 - acc: 0.9325 - val_loss: 0.2056 - val_acc: 0.9370\n",
      "Epoch 5/20\n",
      "124/124 [==============================] - 0s 2ms/step - loss: 0.2140 - acc: 0.9325 - val_loss: 0.2048 - val_acc: 0.9370\n",
      "Epoch 6/20\n",
      "124/124 [==============================] - 0s 1ms/step - loss: 0.2136 - acc: 0.9325 - val_loss: 0.2053 - val_acc: 0.9370\n",
      "Epoch 7/20\n",
      "124/124 [==============================] - 0s 1ms/step - loss: 0.2133 - acc: 0.9324 - val_loss: 0.2061 - val_acc: 0.9370\n",
      "Epoch 8/20\n",
      "124/124 [==============================] - 0s 2ms/step - loss: 0.2130 - acc: 0.9325 - val_loss: 0.2056 - val_acc: 0.9369\n",
      "Epoch 9/20\n",
      "124/124 [==============================] - 0s 1ms/step - loss: 0.2130 - acc: 0.9324 - val_loss: 0.2050 - val_acc: 0.9370\n",
      "Epoch 10/20\n",
      "124/124 [==============================] - 0s 2ms/step - loss: 0.2128 - acc: 0.9325 - val_loss: 0.2048 - val_acc: 0.9370\n",
      "Epoch 11/20\n",
      "124/124 [==============================] - 0s 1ms/step - loss: 0.2124 - acc: 0.9324 - val_loss: 0.2052 - val_acc: 0.9370\n",
      "Epoch 12/20\n",
      "124/124 [==============================] - 0s 2ms/step - loss: 0.2122 - acc: 0.9325 - val_loss: 0.2057 - val_acc: 0.9370\n",
      "Epoch 13/20\n",
      "124/124 [==============================] - 0s 1ms/step - loss: 0.2121 - acc: 0.9324 - val_loss: 0.2055 - val_acc: 0.9370\n",
      "Epoch 14/20\n",
      "124/124 [==============================] - 0s 1ms/step - loss: 0.2121 - acc: 0.9325 - val_loss: 0.2051 - val_acc: 0.9370\n",
      "Epoch 15/20\n",
      "124/124 [==============================] - 0s 1ms/step - loss: 0.2121 - acc: 0.9324 - val_loss: 0.2051 - val_acc: 0.9370\n",
      "Epoch 16/20\n",
      "124/124 [==============================] - 0s 1ms/step - loss: 0.2118 - acc: 0.9324 - val_loss: 0.2048 - val_acc: 0.9370\n",
      "Epoch 17/20\n",
      "124/124 [==============================] - 0s 2ms/step - loss: 0.2116 - acc: 0.9325 - val_loss: 0.2047 - val_acc: 0.9370\n",
      "Epoch 18/20\n",
      "124/124 [==============================] - 0s 2ms/step - loss: 0.2116 - acc: 0.9325 - val_loss: 0.2068 - val_acc: 0.9369\n",
      "Epoch 19/20\n",
      "124/124 [==============================] - 0s 1ms/step - loss: 0.2114 - acc: 0.9325 - val_loss: 0.2058 - val_acc: 0.9369\n",
      "Epoch 20/20\n",
      "124/124 [==============================] - 0s 1ms/step - loss: 0.2114 - acc: 0.9324 - val_loss: 0.2046 - val_acc: 0.9370\n",
      "Epoch 1/4\n",
      "144/144 [==============================] - 0s 1ms/step - loss: 0.2105 - acc: 0.9331\n",
      "Epoch 2/4\n",
      "144/144 [==============================] - 0s 1ms/step - loss: 0.2103 - acc: 0.9330\n",
      "Epoch 3/4\n",
      "144/144 [==============================] - 0s 1ms/step - loss: 0.2103 - acc: 0.9331\n",
      "Epoch 4/4\n",
      "144/144 [==============================] - 0s 1ms/step - loss: 0.2103 - acc: 0.9331\n",
      "405/405 [==============================] - 0s 556us/step - loss: 0.2190 - acc: 0.9312\n"
     ]
    }
   ],
   "source": [
    "model2b = models.Sequential()\n",
    "# changes the hidden units from 16 to 32\n",
    "model2b.add(layers.Dense(64, activation='relu', input_shape=(8,)))\n",
    "model2b.add(layers.Dense(64, activation='relu'))\n",
    "model2b.add(layers.Dense(1, activation='sigmoid'))\n",
    "\n",
    "model2b.compile(optimizer='rmsprop', loss='binary_crossentropy', metrics=['acc'])\n",
    "\n",
    "history2b = model2b.fit(x_train, y_train, epochs=20, batch_size=512, validation_data=(x_val, y_val))\n",
    "\n",
    "model2b.fit(train_data, train_label, epochs=4, batch_size=512)\n",
    "\n",
    "results2b = model2b.evaluate(test_data, test_label) "
   ]
  },
  {
   "cell_type": "code",
   "execution_count": 36,
   "metadata": {},
   "outputs": [
    {
     "name": "stdout",
     "output_type": "stream",
     "text": [
      "Test Results:\n",
      "   Base (16 Units) = [0.219853013753891, 0.9311997294425964]\n",
      "   32 Hidden Units = [0.2175404131412506, 0.9311997294425964]\n",
      "   64 Hidden Units = [0.2189835011959076, 0.9311997294425964]\n"
     ]
    }
   ],
   "source": [
    "print(\"Test Results:\")\n",
    "print(\"   Base (16 Units) =\", results)\n",
    "print(\"   32 Hidden Units =\", results2a)\n",
    "print(\"   64 Hidden Units =\", results2b)"
   ]
  },
  {
   "cell_type": "markdown",
   "metadata": {},
   "source": [
    "#### Experiment #3\n",
    "\n",
    "Try using the mse loss function instead of binary_crossentropy."
   ]
  },
  {
   "cell_type": "code",
   "execution_count": 37,
   "metadata": {},
   "outputs": [
    {
     "name": "stdout",
     "output_type": "stream",
     "text": [
      "Epoch 1/20\n",
      "124/124 [==============================] - 0s 2ms/step - loss: 0.1060 - acc: 0.9054 - val_loss: 0.0590 - val_acc: 0.9370\n",
      "Epoch 2/20\n",
      "124/124 [==============================] - 0s 943us/step - loss: 0.0597 - acc: 0.9325 - val_loss: 0.0560 - val_acc: 0.9370\n",
      "Epoch 3/20\n",
      "124/124 [==============================] - 0s 943us/step - loss: 0.0587 - acc: 0.9325 - val_loss: 0.0555 - val_acc: 0.9370\n",
      "Epoch 4/20\n",
      "124/124 [==============================] - 0s 949us/step - loss: 0.0584 - acc: 0.9325 - val_loss: 0.0552 - val_acc: 0.9370\n",
      "Epoch 5/20\n",
      "124/124 [==============================] - 0s 940us/step - loss: 0.0582 - acc: 0.9325 - val_loss: 0.0551 - val_acc: 0.9370\n",
      "Epoch 6/20\n",
      "124/124 [==============================] - 0s 942us/step - loss: 0.0580 - acc: 0.9325 - val_loss: 0.0552 - val_acc: 0.9370\n",
      "Epoch 7/20\n",
      "124/124 [==============================] - 0s 1ms/step - loss: 0.0579 - acc: 0.9325 - val_loss: 0.0550 - val_acc: 0.9370\n",
      "Epoch 8/20\n",
      "124/124 [==============================] - 0s 1ms/step - loss: 0.0579 - acc: 0.9325 - val_loss: 0.0549 - val_acc: 0.9370\n",
      "Epoch 9/20\n",
      "124/124 [==============================] - 0s 941us/step - loss: 0.0578 - acc: 0.9325 - val_loss: 0.0549 - val_acc: 0.9370\n",
      "Epoch 10/20\n",
      "124/124 [==============================] - 0s 929us/step - loss: 0.0577 - acc: 0.9325 - val_loss: 0.0551 - val_acc: 0.9370\n",
      "Epoch 11/20\n",
      "124/124 [==============================] - 0s 1ms/step - loss: 0.0577 - acc: 0.9325 - val_loss: 0.0547 - val_acc: 0.9370\n",
      "Epoch 12/20\n",
      "124/124 [==============================] - 0s 1ms/step - loss: 0.0577 - acc: 0.9325 - val_loss: 0.0549 - val_acc: 0.9370\n",
      "Epoch 13/20\n",
      "124/124 [==============================] - 0s 1ms/step - loss: 0.0576 - acc: 0.9325 - val_loss: 0.0548 - val_acc: 0.9370\n",
      "Epoch 14/20\n",
      "124/124 [==============================] - 0s 1ms/step - loss: 0.0576 - acc: 0.9325 - val_loss: 0.0548 - val_acc: 0.9370\n",
      "Epoch 15/20\n",
      "124/124 [==============================] - 0s 1ms/step - loss: 0.0575 - acc: 0.9325 - val_loss: 0.0547 - val_acc: 0.9370\n",
      "Epoch 16/20\n",
      "124/124 [==============================] - 0s 1ms/step - loss: 0.0575 - acc: 0.9325 - val_loss: 0.0547 - val_acc: 0.9370\n",
      "Epoch 17/20\n",
      "124/124 [==============================] - 0s 1ms/step - loss: 0.0575 - acc: 0.9325 - val_loss: 0.0548 - val_acc: 0.9370\n",
      "Epoch 18/20\n",
      "124/124 [==============================] - 0s 1ms/step - loss: 0.0575 - acc: 0.9325 - val_loss: 0.0547 - val_acc: 0.9370\n",
      "Epoch 19/20\n",
      "124/124 [==============================] - 0s 938us/step - loss: 0.0574 - acc: 0.9325 - val_loss: 0.0547 - val_acc: 0.9370\n",
      "Epoch 20/20\n",
      "124/124 [==============================] - 0s 973us/step - loss: 0.0574 - acc: 0.9325 - val_loss: 0.0546 - val_acc: 0.9370\n",
      "Epoch 1/4\n",
      "144/144 [==============================] - 0s 723us/step - loss: 0.0570 - acc: 0.9331\n",
      "Epoch 2/4\n",
      "144/144 [==============================] - 0s 889us/step - loss: 0.0570 - acc: 0.9331\n",
      "Epoch 3/4\n",
      "144/144 [==============================] - 0s 725us/step - loss: 0.0570 - acc: 0.9331\n",
      "Epoch 4/4\n",
      "144/144 [==============================] - 0s 739us/step - loss: 0.0570 - acc: 0.9331\n",
      "405/405 [==============================] - 0s 797us/step - loss: 0.0588 - acc: 0.9312\n"
     ]
    }
   ],
   "source": [
    "model3 = models.Sequential()\n",
    "model3.add(layers.Dense(16, activation='relu', input_shape=(8,)))\n",
    "model3.add(layers.Dense(16, activation='relu'))\n",
    "model3.add(layers.Dense(1, activation='sigmoid'))\n",
    "\n",
    "# changes loss function from binary_crossentropy to mse in the compilation step\n",
    "model3.compile(optimizer='rmsprop', loss='mse', metrics=['acc'])\n",
    "\n",
    "history3 = model3.fit(x_train, y_train, epochs=20, batch_size=512, validation_data=(x_val, y_val))\n",
    "\n",
    "model3.fit(train_data, train_label, epochs=4, batch_size=512)\n",
    "\n",
    "results3 = model3.evaluate(test_data, test_label) "
   ]
  },
  {
   "cell_type": "code",
   "execution_count": 38,
   "metadata": {},
   "outputs": [
    {
     "name": "stdout",
     "output_type": "stream",
     "text": [
      "Test Results:\n",
      "   Entropy = [0.219853013753891, 0.9311997294425964]\n",
      "   MSE     = [0.05880967900156975, 0.9311997294425964]\n"
     ]
    }
   ],
   "source": [
    "print(\"Test Results:\")\n",
    "print(\"   Entropy =\", results)\n",
    "print(\"   MSE     =\", results3)"
   ]
  },
  {
   "cell_type": "markdown",
   "metadata": {},
   "source": [
    "#### Experiment #4\n",
    "\n",
    "Try using the tanh activation (an activation that was popular in the early days of neural networks) instead of relu."
   ]
  },
  {
   "cell_type": "code",
   "execution_count": 39,
   "metadata": {},
   "outputs": [
    {
     "name": "stdout",
     "output_type": "stream",
     "text": [
      "Epoch 1/20\n",
      "124/124 [==============================] - 1s 2ms/step - loss: 0.4541 - acc: 0.8605 - val_loss: 0.2558 - val_acc: 0.9355\n",
      "Epoch 2/20\n",
      "124/124 [==============================] - 0s 1ms/step - loss: 0.2274 - acc: 0.9313 - val_loss: 0.2105 - val_acc: 0.9366\n",
      "Epoch 3/20\n",
      "124/124 [==============================] - 0s 1ms/step - loss: 0.2190 - acc: 0.9323 - val_loss: 0.2083 - val_acc: 0.9371\n",
      "Epoch 4/20\n",
      "124/124 [==============================] - 0s 1ms/step - loss: 0.2179 - acc: 0.9324 - val_loss: 0.2079 - val_acc: 0.9371\n",
      "Epoch 5/20\n",
      "124/124 [==============================] - 0s 1ms/step - loss: 0.2173 - acc: 0.9324 - val_loss: 0.2076 - val_acc: 0.9371\n",
      "Epoch 6/20\n",
      "124/124 [==============================] - 0s 1ms/step - loss: 0.2167 - acc: 0.9325 - val_loss: 0.2071 - val_acc: 0.9371\n",
      "Epoch 7/20\n",
      "124/124 [==============================] - 0s 1ms/step - loss: 0.2164 - acc: 0.9325 - val_loss: 0.2068 - val_acc: 0.9370\n",
      "Epoch 8/20\n",
      "124/124 [==============================] - 0s 1ms/step - loss: 0.2159 - acc: 0.9325 - val_loss: 0.2073 - val_acc: 0.9371\n",
      "Epoch 9/20\n",
      "124/124 [==============================] - 0s 947us/step - loss: 0.2157 - acc: 0.9325 - val_loss: 0.2072 - val_acc: 0.9370\n",
      "Epoch 10/20\n",
      "124/124 [==============================] - 0s 941us/step - loss: 0.2154 - acc: 0.9325 - val_loss: 0.2061 - val_acc: 0.9370\n",
      "Epoch 11/20\n",
      "124/124 [==============================] - 0s 979us/step - loss: 0.2154 - acc: 0.9325 - val_loss: 0.2057 - val_acc: 0.9370\n",
      "Epoch 12/20\n",
      "124/124 [==============================] - 0s 1ms/step - loss: 0.2151 - acc: 0.9324 - val_loss: 0.2057 - val_acc: 0.9370\n",
      "Epoch 13/20\n",
      "124/124 [==============================] - 0s 975us/step - loss: 0.2150 - acc: 0.9324 - val_loss: 0.2056 - val_acc: 0.9371\n",
      "Epoch 14/20\n",
      "124/124 [==============================] - 0s 987us/step - loss: 0.2149 - acc: 0.9324 - val_loss: 0.2058 - val_acc: 0.9369\n",
      "Epoch 15/20\n",
      "124/124 [==============================] - 0s 1ms/step - loss: 0.2148 - acc: 0.9324 - val_loss: 0.2058 - val_acc: 0.9370\n",
      "Epoch 16/20\n",
      "124/124 [==============================] - 0s 1ms/step - loss: 0.2147 - acc: 0.9324 - val_loss: 0.2055 - val_acc: 0.9371\n",
      "Epoch 17/20\n",
      "124/124 [==============================] - 0s 1ms/step - loss: 0.2146 - acc: 0.9325 - val_loss: 0.2056 - val_acc: 0.9370\n",
      "Epoch 18/20\n",
      "124/124 [==============================] - 0s 1ms/step - loss: 0.2144 - acc: 0.9324 - val_loss: 0.2057 - val_acc: 0.9371\n",
      "Epoch 19/20\n",
      "124/124 [==============================] - 0s 978us/step - loss: 0.2144 - acc: 0.9325 - val_loss: 0.2056 - val_acc: 0.9371\n",
      "Epoch 20/20\n",
      "124/124 [==============================] - 0s 947us/step - loss: 0.2142 - acc: 0.9324 - val_loss: 0.2051 - val_acc: 0.9371\n",
      "Epoch 1/4\n",
      "144/144 [==============================] - 0s 764us/step - loss: 0.2130 - acc: 0.9331\n",
      "Epoch 2/4\n",
      "144/144 [==============================] - 0s 808us/step - loss: 0.2128 - acc: 0.9331\n",
      "Epoch 3/4\n",
      "144/144 [==============================] - 0s 750us/step - loss: 0.2128 - acc: 0.9331\n",
      "Epoch 4/4\n",
      "144/144 [==============================] - 0s 710us/step - loss: 0.2127 - acc: 0.9331\n",
      "405/405 [==============================] - 0s 550us/step - loss: 0.2188 - acc: 0.9312\n"
     ]
    }
   ],
   "source": [
    "model4 = models.Sequential()\n",
    "# changes activation function in hidden layer to tanh instead of relu\n",
    "model4.add(layers.Dense(16, activation='tanh', input_shape=(8,)))\n",
    "model4.add(layers.Dense(16, activation='tanh'))\n",
    "model4.add(layers.Dense(1, activation='sigmoid'))\n",
    "\n",
    "model4.compile(optimizer='rmsprop', loss='binary_crossentropy', metrics=['acc'])\n",
    "\n",
    "history4 = model4.fit(x_train, y_train, epochs=20, batch_size=512, validation_data=(x_val, y_val))\n",
    "\n",
    "model4.fit(train_data, train_label, epochs=4, batch_size=512)\n",
    "\n",
    "results4 = model4.evaluate(test_data, test_label) "
   ]
  },
  {
   "cell_type": "code",
   "execution_count": 40,
   "metadata": {},
   "outputs": [
    {
     "name": "stdout",
     "output_type": "stream",
     "text": [
      "Test Results:\n",
      "   Relu  = [0.219853013753891, 0.9311997294425964]\n",
      "   Tanh  = [0.2188042402267456, 0.9311997294425964]\n"
     ]
    }
   ],
   "source": [
    "print(\"Test Results:\")\n",
    "print(\"   Relu  =\", results)\n",
    "print(\"   Tanh  =\", results4)"
   ]
  }
 ],
 "metadata": {
  "kernelspec": {
   "display_name": "Python 3.10.6 ('cpsc393')",
   "language": "python",
   "name": "python3"
  },
  "language_info": {
   "codemirror_mode": {
    "name": "ipython",
    "version": 3
   },
   "file_extension": ".py",
   "mimetype": "text/x-python",
   "name": "python",
   "nbconvert_exporter": "python",
   "pygments_lexer": "ipython3",
   "version": "3.10.6"
  },
  "orig_nbformat": 4,
  "vscode": {
   "interpreter": {
    "hash": "28a5636232597662a740693699a81b2003c63a3cbfdc6b6b9821f1776a352cce"
   }
  }
 },
 "nbformat": 4,
 "nbformat_minor": 2
}
